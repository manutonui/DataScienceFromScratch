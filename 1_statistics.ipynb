{
 "cells": [
  {
   "cell_type": "code",
   "execution_count": 27,
   "metadata": {},
   "outputs": [],
   "source": [
    "import pandas as pd\n",
    "import numpy as np\n",
    "import matplotlib.pyplot as plt\n",
    "import statistics as stats"
   ]
  },
  {
   "cell_type": "code",
   "execution_count": 31,
   "metadata": {},
   "outputs": [],
   "source": [
    "# Generating random numbers and samples\n",
    "nums = np.random.randint(1,10,20)"
   ]
  },
  {
   "cell_type": "markdown",
   "metadata": {},
   "source": [
    "### Basics: Central Tendencies: Mean, Median, Modes"
   ]
  },
  {
   "cell_type": "code",
   "execution_count": 32,
   "metadata": {},
   "outputs": [
    {
     "name": "stdout",
     "output_type": "stream",
     "text": [
      "Mean: 5.5\n",
      "Median: 6.0\n",
      "Mode: 7\n",
      "Variance: 5.35\n",
      "Stdev: 2.3130067012440754\n",
      "Range: 7\n",
      "Min: 2\n",
      "Max: 9\n",
      "\n",
      "Mean:  5.5\n",
      "Median: 6.0\n",
      "Mode: [7]\n",
      "Variance: 5.631578947368421\n",
      "Stdev: 2.373094803704315\n",
      "Range: 7\n",
      "Min: 2\n",
      "Max: 9\n"
     ]
    }
   ],
   "source": [
    "# Using Numpy\n",
    "print(f\"Mean: {np.mean(nums)}\")\n",
    "print(f\"Median: {np.median(nums)}\")\n",
    "print(f\"Mode: {stats.mode(nums)}\")\n",
    "print(f\"Variance: {np.var(nums)}\")\n",
    "print(f\"Stdev: {np.std(nums)}\")\n",
    "print(f\"Range: {np.max(nums) - np.min(nums)}\")\n",
    "print(f\"Min: {np.min(nums)}\")\n",
    "print(f\"Max: {np.max(nums)}\")\n",
    "\n",
    "# Using Pandas\n",
    "df = pd.DataFrame(nums)\n",
    "print(\"\\nMean: \",str(df.mean()[0]))\n",
    "print(f\"Median: {df.median()[0]}\")\n",
    "print(f\"Mode: {(list(df.mode()[0].values))}\")\n",
    "print(f\"Variance: {df.var()[0]}\")\n",
    "print(f\"Stdev: {df.std()[0]}\")\n",
    "print(f\"Range: {df.max()[0] - df.min()[0]}\")\n",
    "print(f\"Min: {df.min()[0]}\")\n",
    "print(f\"Max: {df.max()[0]}\")"
   ]
  },
  {
   "cell_type": "markdown",
   "metadata": {},
   "source": [
    "### Measure of Spread: Median & Dispersion, Inter Quartile Range"
   ]
  },
  {
   "cell_type": "code",
   "execution_count": 42,
   "metadata": {},
   "outputs": [
    {
     "data": {
      "text/plain": [
       "<Axes: >"
      ]
     },
     "execution_count": 42,
     "metadata": {},
     "output_type": "execute_result"
    },
    {
     "data": {
      "image/png": "[encoded data removed]",
      "text/plain": [
       "<Figure size 640x480 with 1 Axes>"
      ]
     },
     "metadata": {},
     "output_type": "display_data"
    }
   ],
   "source": [
    "nums[-1] = 15 # outlier: remove outliers\n",
    "df = pd.DataFrame({\n",
    "    'nums': nums\n",
    "}) # pandas dataframe\n",
    "df.plot(kind='box')"
   ]
  },
  {
   "cell_type": "markdown",
   "metadata": {},
   "source": [
    "### Skew and Kurtosis"
   ]
  },
  {
   "cell_type": "code",
   "execution_count": 44,
   "metadata": {},
   "outputs": [
    {
     "name": "stdout",
     "output_type": "stream",
     "text": [
      "Skewness: 1.1798873482979788\n",
      "Kurtosis: 2.791347026406144\n"
     ]
    }
   ],
   "source": [
    "skew = df['nums'].skew() # negative skewed: more values greater than mean, and vice versa\n",
    "kurt = df['nums'].kurt() # high kurtosis: std distribution has high/sharp peak, and vice versa for low kurt\n",
    "print(f\"Skewness: {skew}\")\n",
    "print(f\"Kurtosis: {kurt}\")"
   ]
  },
  {
   "cell_type": "markdown",
   "metadata": {},
   "source": [
    "### Correlation"
   ]
  },
  {
   "cell_type": "code",
   "execution_count": 47,
   "metadata": {},
   "outputs": [
    {
     "data": {
      "text/html": [
       "<div>\n",
       "<style scoped>\n",
       "    .dataframe tbody tr th:only-of-type {\n",
       "        vertical-align: middle;\n",
       "    }\n",
       "\n",
       "    .dataframe tbody tr th {\n",
       "        vertical-align: top;\n",
       "    }\n",
       "\n",
       "    .dataframe thead th {\n",
       "        text-align: right;\n",
       "    }\n",
       "</style>\n",
       "<table border=\"1\" class=\"dataframe\">\n",
       "  <thead>\n",
       "    <tr style=\"text-align: right;\">\n",
       "      <th></th>\n",
       "      <th>age</th>\n",
       "      <th>salary</th>\n",
       "      <th>speed</th>\n",
       "    </tr>\n",
       "  </thead>\n",
       "  <tbody>\n",
       "    <tr>\n",
       "      <th>age</th>\n",
       "      <td>1.000000</td>\n",
       "      <td>0.990684</td>\n",
       "      <td>-0.995402</td>\n",
       "    </tr>\n",
       "    <tr>\n",
       "      <th>salary</th>\n",
       "      <td>0.990684</td>\n",
       "      <td>1.000000</td>\n",
       "      <td>-0.999173</td>\n",
       "    </tr>\n",
       "    <tr>\n",
       "      <th>speed</th>\n",
       "      <td>-0.995402</td>\n",
       "      <td>-0.999173</td>\n",
       "      <td>1.000000</td>\n",
       "    </tr>\n",
       "  </tbody>\n",
       "</table>\n",
       "</div>"
      ],
      "text/plain": [
       "             age    salary     speed\n",
       "age     1.000000  0.990684 -0.995402\n",
       "salary  0.990684  1.000000 -0.999173\n",
       "speed  -0.995402 -0.999173  1.000000"
      ]
     },
     "execution_count": 47,
     "metadata": {},
     "output_type": "execute_result"
    }
   ],
   "source": [
    "data = {\n",
    "    'age': [25, 35, 45],\n",
    "    'salary': [70000, 150000, 280000],\n",
    "    'speed': [25, 20, 13]\n",
    "}\n",
    "\n",
    "df = pd.DataFrame(data)\n",
    "df.corr()"
   ]
  },
  {
   "cell_type": "code",
   "execution_count": 53,
   "metadata": {},
   "outputs": [
    {
     "data": {
      "text/plain": [
       "[<matplotlib.lines.Line2D at 0x19f5ba67290>]"
      ]
     },
     "execution_count": 53,
     "metadata": {},
     "output_type": "execute_result"
    },
    {
     "data": {
      "image/png": "[encoded data removed]",
      "text/plain": [
       "<Figure size 300x200 with 1 Axes>"
      ]
     },
     "metadata": {},
     "output_type": "display_data"
    },
    {
     "data": {
      "image/png": "[encoded data removed]",
      "text/plain": [
       "<Figure size 300x200 with 1 Axes>"
      ]
     },
     "metadata": {},
     "output_type": "display_data"
    }
   ],
   "source": [
    "plt.figure(figsize=(3,2))\n",
    "plt.plot(df['age'], df['salary']) # positive correlation\n",
    "plt.figure(figsize=(3,2))\n",
    "plt.plot(df['age'], df['speed']) # negative correlation"
   ]
  },
  {
   "cell_type": "code",
   "execution_count": null,
   "metadata": {},
   "outputs": [],
   "source": []
  }
 ],
 "metadata": {
  "kernelspec": {
   "display_name": "Python 3",
   "language": "python",
   "name": "python3"
  },
  "language_info": {
   "codemirror_mode": {
    "name": "ipython",
    "version": 3
   },
   "file_extension": ".py",
   "mimetype": "text/x-python",
   "name": "python",
   "nbconvert_exporter": "python",
   "pygments_lexer": "ipython3",
   "version": "3.11.4"
  }
 },
 "nbformat": 4,
 "nbformat_minor": 2
}
