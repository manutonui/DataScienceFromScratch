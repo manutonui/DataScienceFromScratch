{
 "cells": [
  {
   "cell_type": "code",
   "execution_count": 165,
   "metadata": {},
   "outputs": [],
   "source": [
    "import pandas as pd\n",
    "import numpy as np\n",
    "import matplotlib.pyplot as plt\n",
    "import statistics as stats"
   ]
  },
  {
   "cell_type": "code",
   "execution_count": 166,
   "metadata": {},
   "outputs": [],
   "source": [
    "# Generating random numbers and samples\n",
    "scores = np.random.randint(1, 11, 100) # out of 10\n",
    "# sample = np.random.choice(nums, 5)"
   ]
  },
  {
   "cell_type": "markdown",
   "metadata": {},
   "source": [
    "### Basics: Central Tendencies: Mean, Median, Modes"
   ]
  },
  {
   "cell_type": "code",
   "execution_count": 167,
   "metadata": {},
   "outputs": [
    {
     "name": "stdout",
     "output_type": "stream",
     "text": [
      "Mean: 5.2\n",
      "Median: 5.0\n"
     ]
    }
   ],
   "source": [
    "# Using Numpy\n",
    "print(f\"Mean: {np.mean(scores)}\")\n",
    "print(f\"Median: {np.median(scores)}\")\n",
    "# print(f\"Mode: {stats.mode(scores)}\") # numpy doesn't have mode function"
   ]
  },
  {
   "cell_type": "code",
   "execution_count": 168,
   "metadata": {},
   "outputs": [
    {
     "name": "stdout",
     "output_type": "stream",
     "text": [
      "\n",
      "Mean:  scores    5.2\n",
      "dtype: float64\n",
      "Median: scores    5.0\n",
      "dtype: float64\n"
     ]
    }
   ],
   "source": [
    "# Using Pandas: .mean(), .median(), .mode()\n",
    "df = pd.DataFrame({'scores': scores})\n",
    "print(\"\\nMean: \",str(df.mean()))\n",
    "print(f\"Median: {df.median()}\")"
   ]
  },
  {
   "cell_type": "markdown",
   "metadata": {},
   "source": [
    "### Measure of Spread: Median & Dispersion, Inter Quartile Range"
   ]
  },
  {
   "cell_type": "code",
   "execution_count": 169,
   "metadata": {},
   "outputs": [
    {
     "name": "stdout",
     "output_type": "stream",
     "text": [
      "Variance: 9.19191919191919\n",
      "Stdev: 3.0318178032195786\n"
     ]
    }
   ],
   "source": [
    "# Variance: .var()\n",
    "# Standard deviation: .std()\n",
    "\n",
    "print(f\"Variance: {df['scores'].var()}\") # measures how widely values are scattered from the mean.\n",
    "print(f\"Stdev: {df['scores'].std()}\") # measures the avg distance from the mean"
   ]
  },
  {
   "cell_type": "code",
   "execution_count": 181,
   "metadata": {},
   "outputs": [
    {
     "data": {
      "text/plain": [
       "<Axes: >"
      ]
     },
     "execution_count": 181,
     "metadata": {},
     "output_type": "execute_result"
    },
    {
     "data": {
      "image/png": "[encoded data removed]",
      "text/plain": [
       "<Figure size 640x480 with 1 Axes>"
      ]
     },
     "metadata": {},
     "output_type": "display_data"
    }
   ],
   "source": [
    "df['scores'].iloc[-1] = 20 # outlier\n",
    "df['scores'].iloc[-1]\n",
    "# use boxplot to detect outliers\n",
    "# use and leverage variance and/or standard deviation to deal with outliers\n",
    "df['scores'].plot(kind='box')"
   ]
  },
  {
   "cell_type": "markdown",
   "metadata": {},
   "source": [
    "### Skew and Kurtosis"
   ]
  },
  {
   "cell_type": "code",
   "execution_count": 172,
   "metadata": {},
   "outputs": [
    {
     "name": "stdout",
     "output_type": "stream",
     "text": [
      "Skewness: 0.8378482709037675\n",
      "Kurtosis: 1.9812779597660666\n"
     ]
    }
   ],
   "source": [
    "skew = df['scores'].skew() # negative skewed: more values greater than mean, and vice versa\n",
    "kurt = df['scores'].kurt() # high kurtosis: std distribution has high/sharp peak, and vice versa for low kurt\n",
    "print(f\"Skewness: {skew}\")\n",
    "print(f\"Kurtosis: {kurt}\")"
   ]
  },
  {
   "cell_type": "markdown",
   "metadata": {},
   "source": [
    "### Correlation"
   ]
  },
  {
   "cell_type": "code",
   "execution_count": 173,
   "metadata": {},
   "outputs": [
    {
     "data": {
      "text/html": [
       "<div>\n",
       "<style scoped>\n",
       "    .dataframe tbody tr th:only-of-type {\n",
       "        vertical-align: middle;\n",
       "    }\n",
       "\n",
       "    .dataframe tbody tr th {\n",
       "        vertical-align: top;\n",
       "    }\n",
       "\n",
       "    .dataframe thead th {\n",
       "        text-align: right;\n",
       "    }\n",
       "</style>\n",
       "<table border=\"1\" class=\"dataframe\">\n",
       "  <thead>\n",
       "    <tr style=\"text-align: right;\">\n",
       "      <th></th>\n",
       "      <th>age</th>\n",
       "      <th>salary</th>\n",
       "      <th>speed</th>\n",
       "    </tr>\n",
       "  </thead>\n",
       "  <tbody>\n",
       "    <tr>\n",
       "      <th>age</th>\n",
       "      <td>1.000000</td>\n",
       "      <td>0.990684</td>\n",
       "      <td>-0.995402</td>\n",
       "    </tr>\n",
       "    <tr>\n",
       "      <th>salary</th>\n",
       "      <td>0.990684</td>\n",
       "      <td>1.000000</td>\n",
       "      <td>-0.999173</td>\n",
       "    </tr>\n",
       "    <tr>\n",
       "      <th>speed</th>\n",
       "      <td>-0.995402</td>\n",
       "      <td>-0.999173</td>\n",
       "      <td>1.000000</td>\n",
       "    </tr>\n",
       "  </tbody>\n",
       "</table>\n",
       "</div>"
      ],
      "text/plain": [
       "             age    salary     speed\n",
       "age     1.000000  0.990684 -0.995402\n",
       "salary  0.990684  1.000000 -0.999173\n",
       "speed  -0.995402 -0.999173  1.000000"
      ]
     },
     "execution_count": 173,
     "metadata": {},
     "output_type": "execute_result"
    }
   ],
   "source": [
    "data = {\n",
    "    'age': [25, 35, 45],\n",
    "    'salary': [70000, 150000, 280000],\n",
    "    'speed': [25, 20, 13]\n",
    "}\n",
    "\n",
    "dt = pd.DataFrame(data)\n",
    "dt.corr()"
   ]
  },
  {
   "cell_type": "code",
   "execution_count": 174,
   "metadata": {},
   "outputs": [
    {
     "data": {
      "text/plain": [
       "[<matplotlib.lines.Line2D at 0x19f64defa10>]"
      ]
     },
     "execution_count": 174,
     "metadata": {},
     "output_type": "execute_result"
    },
    {
     "data": {
      "image/png": "[encoded data removed]",
      "text/plain": [
       "<Figure size 300x200 with 1 Axes>"
      ]
     },
     "metadata": {},
     "output_type": "display_data"
    },
    {
     "data": {
      "image/png": "[encoded data removed]",
      "text/plain": [
       "<Figure size 300x200 with 1 Axes>"
      ]
     },
     "metadata": {},
     "output_type": "display_data"
    }
   ],
   "source": [
    "plt.figure(figsize=(3,2))\n",
    "plt.plot(dt['age'], dt['salary']) # positive correlation: as one variable increases, another increases as well\n",
    "plt.figure(figsize=(3,2))\n",
    "plt.plot(dt['age'], dt['speed']) # negative correlation: as one variable increases, another decreases"
   ]
  }
 ],
 "metadata": {
  "kernelspec": {
   "display_name": "Python 3",
   "language": "python",
   "name": "python3"
  },
  "language_info": {
   "codemirror_mode": {
    "name": "ipython",
    "version": 3
   },
   "file_extension": ".py",
   "mimetype": "text/x-python",
   "name": "python",
   "nbconvert_exporter": "python",
   "pygments_lexer": "ipython3",
   "version": "3.11.4"
  }
 },
 "nbformat": 4,
 "nbformat_minor": 2
}
